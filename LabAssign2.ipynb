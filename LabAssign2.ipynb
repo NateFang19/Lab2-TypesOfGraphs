{
  "nbformat": 4,
  "nbformat_minor": 0,
  "metadata": {
    "colab": {
      "name": "LabAssign2",
      "provenance": [],
      "authorship_tag": "ABX9TyNkgvBt/Wz0yQDfXPyfNKDF",
      "include_colab_link": true
    },
    "kernelspec": {
      "name": "python3",
      "display_name": "Python 3"
    }
  },
  "cells": [
    {
      "cell_type": "markdown",
      "metadata": {
        "id": "view-in-github",
        "colab_type": "text"
      },
      "source": [
        "<a href=\"https://colab.research.google.com/github/NateFang19/Lab2-TypesOfGraphs/blob/master/LabAssign2.ipynb\" target=\"_parent\"><img src=\"https://colab.research.google.com/assets/colab-badge.svg\" alt=\"Open In Colab\"/></a>"
      ]
    },
    {
      "cell_type": "markdown",
      "metadata": {
        "id": "_yZXYyvHpfbO",
        "colab_type": "text"
      },
      "source": [
        "#Types of Graphs"
      ]
    },
    {
      "cell_type": "markdown",
      "metadata": {
        "id": "_-Z0QIp2pmaL",
        "colab_type": "text"
      },
      "source": [
        "####Creator\n",
        "\n",
        "*   Nathan Fangio\n"
      ]
    },
    {
      "cell_type": "markdown",
      "metadata": {
        "id": "gbfpTFsVpuOE",
        "colab_type": "text"
      },
      "source": [
        "##Deviation"
      ]
    },
    {
      "cell_type": "markdown",
      "metadata": {
        "id": "3BHcO98up8P5",
        "colab_type": "text"
      },
      "source": [
        "![alt text](https://raw.githubusercontent.com/sprib012/SRA268/master/Download%20Image-5.png)"
      ]
    },
    {
      "cell_type": "markdown",
      "metadata": {
        "id": "zyUi3Ox-kaJr",
        "colab_type": "text"
      },
      "source": [
        "**What is this telling us?**"
      ]
    },
    {
      "cell_type": "markdown",
      "metadata": {
        "id": "qL38Qr5mqT_W",
        "colab_type": "text"
      },
      "source": [
        "The major key about deviation graphs is that they emphasize variation using a fixed point. This visualization is describing the value of points scored by winning teams in 2011 versus 2012. The information is easy to read because it splits a single variable into two contrasting components. The contrasting colors also make it easier to decipher when points were scored. The surprising part about this data is that considerably more points were scored in 2011 than 2012 by the select teams chosen. "
      ]
    },
    {
      "cell_type": "markdown",
      "metadata": {
        "id": "BcYtwdIqqYWx",
        "colab_type": "text"
      },
      "source": [
        "##Correlation"
      ]
    },
    {
      "cell_type": "markdown",
      "metadata": {
        "id": "lAx9v4nuqcRN",
        "colab_type": "text"
      },
      "source": [
        "![alt text](https://raw.githubusercontent.com/Jflatley22/SRA-268/master/images/Correlation.png)"
      ]
    },
    {
      "cell_type": "markdown",
      "metadata": {
        "id": "4any2hN8kjlg",
        "colab_type": "text"
      },
      "source": [
        "**What is this telling us?**"
      ]
    },
    {
      "cell_type": "markdown",
      "metadata": {
        "id": "Gk7qD6ZRqgbd",
        "colab_type": "text"
      },
      "source": [
        "This visualization is showing the total number of points scored by each seeded team in the tournament that has won. This graph is known as a correlation because it shows a relationship between two or more points. There is nothing surprising about the data displayed because it would be logical to assume that the higher ranked seeds would score more points than the other seeds. There are only two occurrences where the seed total win points are out of order. One factor the really helps display the data is the different shading of the marks at each point. It helps differentiate the ranking of seeds."
      ]
    },
    {
      "cell_type": "markdown",
      "metadata": {
        "id": "J9oQ39NQqiUo",
        "colab_type": "text"
      },
      "source": [
        "##Ranking"
      ]
    },
    {
      "cell_type": "markdown",
      "metadata": {
        "id": "TMvVApYdqlvA",
        "colab_type": "text"
      },
      "source": [
        "![alt text](https://raw.githubusercontent.com/sprib012/SRA268/master/Download%20Image-3.png)"
      ]
    },
    {
      "cell_type": "markdown",
      "metadata": {
        "id": "sSdtQLdeklca",
        "colab_type": "text"
      },
      "source": [
        "**What is this telling us?**"
      ]
    },
    {
      "cell_type": "markdown",
      "metadata": {
        "id": "DAAYhtcwqpnt",
        "colab_type": "text"
      },
      "source": [
        "This very large visualization is showing how many points each losing market team has scored. This is known as a ranking because it highlights the positioning of data relative to one another. This visualization is so large because it has to take into account every market team that has lost a March Madness game. This data is much easier to read than other types because it is sorted into order ranking from most to least points. One of the more surprising findings in this data set is that many successful college basketball teams are towards the top of the rankings. It is very surprising in the difference of points scored between the top and bottom teams."
      ]
    },
    {
      "cell_type": "markdown",
      "metadata": {
        "id": "nvxAohnbqrgv",
        "colab_type": "text"
      },
      "source": [
        "##Distribution"
      ]
    },
    {
      "cell_type": "markdown",
      "metadata": {
        "id": "--cn_IaTqxmu",
        "colab_type": "text"
      },
      "source": [
        "![alt text](https://raw.githubusercontent.com/Jflatley22/SRA-268/master/images/Distribution.png)"
      ]
    },
    {
      "cell_type": "markdown",
      "metadata": {
        "id": "YpDJhc7RknlM",
        "colab_type": "text"
      },
      "source": [
        "**What is this telling us?**"
      ]
    },
    {
      "cell_type": "markdown",
      "metadata": {
        "id": "_FEjLltzq4Ao",
        "colab_type": "text"
      },
      "source": [
        "This type of visualization is one the most common one seen. This is called a distribution, more specifically a histogram. It keeps gaps in between the columns of data small to highlight the shape of the data. This graph is showing the amount of points each losing team scored and the number of teams that lost by the same amount of points. The most surprising thing about the data of this graph is that one team scored around 115 points, and still lost the game. You can see that the graph trends up, and converges in the middle. "
      ]
    },
    {
      "cell_type": "markdown",
      "metadata": {
        "id": "PPdZK7yNq5iE",
        "colab_type": "text"
      },
      "source": [
        "##Change Over Time"
      ]
    },
    {
      "cell_type": "markdown",
      "metadata": {
        "id": "va1paC6Iq_Mp",
        "colab_type": "text"
      },
      "source": [
        "![alt text](https://raw.githubusercontent.com/sprib012/SRA268/master/Download%20Image-4.png)"
      ]
    },
    {
      "cell_type": "markdown",
      "metadata": {
        "id": "HPL64JTWkotm",
        "colab_type": "text"
      },
      "source": [
        "**What is this telling us?**"
      ]
    },
    {
      "cell_type": "markdown",
      "metadata": {
        "id": "kYYpoXOqrAW4",
        "colab_type": "text"
      },
      "source": [
        "This visualization is known as Change Over Time. It is describing the total number of points scored by the losing teams each year. This is known as a line graph. It is a standard way to show a changing time series. It allows someone to continually the scoring trends over the recent March Madness games. The data in this graph continues to be pretty steady over time, except towards recent years where it goes past the previous top number. The line graph is a good visualization to use for this data because of the amount of points and years accounted for."
      ]
    },
    {
      "cell_type": "markdown",
      "metadata": {
        "id": "heXolV4hrCGV",
        "colab_type": "text"
      },
      "source": [
        "##Magnitude"
      ]
    },
    {
      "cell_type": "markdown",
      "metadata": {
        "id": "ud2IwtZQrGcb",
        "colab_type": "text"
      },
      "source": [
        "![alt text](https://raw.githubusercontent.com/Jflatley22/SRA-268/master/images/Mag2.png)"
      ]
    },
    {
      "cell_type": "markdown",
      "metadata": {
        "id": "8WkeiHJ-kpkn",
        "colab_type": "text"
      },
      "source": [
        "**What is this telling us?**"
      ]
    },
    {
      "cell_type": "markdown",
      "metadata": {
        "id": "FA_DIHthrHQR",
        "colab_type": "text"
      },
      "source": [
        "This type of visualization is known as magnitude. It is the standard way to compare the size of certain things. These graphs, known as columns, must always start at zero on the x-axis. You can see on this visualization that it is comparing the number of total points that the winning teams scored. The teams are categorized by their mascot. This allows for good comparing because it allows someone to look at large amounts of data in a very quick amount of time. This graph uses large numbers on the y-axis because of the large number of points that have been scored."
      ]
    },
    {
      "cell_type": "markdown",
      "metadata": {
        "id": "0k6X1l08rIqD",
        "colab_type": "text"
      },
      "source": [
        "##Part-To-Whole"
      ]
    },
    {
      "cell_type": "markdown",
      "metadata": {
        "id": "--0F5xkarNhL",
        "colab_type": "text"
      },
      "source": [
        "![alt text](https://raw.githubusercontent.com/NateFang19/Lab2-TypesOfGraphs/master/folder/Screen%20Shot%202020-02-21%20at%201.52.32%20AM.png)"
      ]
    },
    {
      "cell_type": "markdown",
      "metadata": {
        "id": "mN1a5IfWkqSM",
        "colab_type": "text"
      },
      "source": [
        "**What is this telling us?**"
      ]
    },
    {
      "cell_type": "markdown",
      "metadata": {
        "id": "9tL9EN5SrOq7",
        "colab_type": "text"
      },
      "source": [
        "This visualization is known as Part-To-Whole. One of the more common used graphs is the pie chart. While these types of visualizations are often used, it is difficult to actually compare the size of the segments to one another. This graph is showing the number of wins each tax species has in the March Madness tournament.  The data in the visual is very even between the species names. There is not one predominanat species that has wins over another. The color variation, eventhough there are repeats, on a pie chart makes it easier for someone to evaluate the data quicker."
      ]
    }
  ]
}